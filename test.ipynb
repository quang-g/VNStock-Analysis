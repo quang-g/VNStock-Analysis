{
 "cells": [
  {
   "cell_type": "code",
   "execution_count": 5,
   "metadata": {},
   "outputs": [
    {
     "name": "stdout",
     "output_type": "stream",
     "text": [
      "<class 'pandas.core.frame.DataFrame'>\n",
      "RangeIndex: 11 entries, 0 to 10\n",
      "Data columns (total 1 columns):\n",
      " #   Column        Non-Null Count  Dtype  \n",
      "---  ------        --------------  -----  \n",
      " 0   Gross Profit  11 non-null     float64\n",
      "dtypes: float64(1)\n",
      "memory usage: 216.0 bytes\n"
     ]
    }
   ],
   "source": [
    "import pandas as pd\n",
    "\n",
    "# Creating a sample DataFrame to simulate the scenario\n",
    "data = {\n",
    "    'Gross Profit': [None, 160, 170, 150, 160, 170, 150, 160, 170, None, None],\n",
    "    'Gross Profit': [160.90, 170, 180, 160, 170, 180, 160, 170, 180, 160, 170]\n",
    "}\n",
    "\n",
    "# Creating the DataFrame with duplicate columns\n",
    "df = pd.DataFrame(data)\n",
    "\n",
    "# Identify columns with the same name\n",
    "duplicated_columns = df.columns[df.columns.duplicated()].unique()\n",
    "\n",
    "# Iterate through the duplicated columns and keep the one with more non-null values\n",
    "for col in duplicated_columns:\n",
    "    cols_with_name = df.loc[:, df.columns == col]\n",
    "    # Calculate the non-null count for each column with the same name\n",
    "    non_null_counts = cols_with_name.apply(lambda x: x.count(), axis=0)\n",
    "    # Identify the column with the maximum non-null count\n",
    "    column_to_keep = non_null_counts.idxmax()\n",
    "    # Drop other columns with the same name\n",
    "    columns_to_drop = [col for col in cols_with_name.columns if col != column_to_keep]\n",
    "    df = df.drop(columns=columns_to_drop)\n",
    "\n",
    "# Display the cleaned DataFrame\n",
    "# print(df)\n",
    "df.info()\n"
   ]
  },
  {
   "cell_type": "code",
   "execution_count": null,
   "metadata": {},
   "outputs": [],
   "source": []
  }
 ],
 "metadata": {
  "kernelspec": {
   "display_name": "python3.10env",
   "language": "python",
   "name": "python3"
  },
  "language_info": {
   "codemirror_mode": {
    "name": "ipython",
    "version": 3
   },
   "file_extension": ".py",
   "mimetype": "text/x-python",
   "name": "python",
   "nbconvert_exporter": "python",
   "pygments_lexer": "ipython3",
   "version": "3.10.0"
  }
 },
 "nbformat": 4,
 "nbformat_minor": 2
}
